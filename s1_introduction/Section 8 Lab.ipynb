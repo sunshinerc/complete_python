{
 "cells": [
  {
   "cell_type": "code",
   "execution_count": 1,
   "id": "e93f664e",
   "metadata": {},
   "outputs": [],
   "source": [
    "import pandas as pd\n",
    "BB = pd.read_csv(\"bbc.csv\")"
   ]
  },
  {
   "cell_type": "code",
   "execution_count": 2,
   "id": "cc3dcb02",
   "metadata": {},
   "outputs": [
    {
     "name": "stdout",
     "output_type": "stream",
     "text": [
      "   MaritalStatus  Gender  YearlyIncome  TotalChildren  NumberChildrenAtHome  \\\n",
      "0              5       1         90000              2                     0   \n",
      "1              5       1         60000              3                     3   \n",
      "2              5       1         60000              3                     3   \n",
      "3              5       2         70000              0                     0   \n",
      "4              5       2         80000              5                     5   \n",
      "\n",
      "   EnglishEducation  HouseOwnerFlag  NumberCarsOwned  CommuteDistance  Region  \\\n",
      "0                 5               1                0                2       2   \n",
      "1                 5               0                1                1       2   \n",
      "2                 5               1                1                5       2   \n",
      "3                 5               0                1               10       2   \n",
      "4                 5               1                4                2       2   \n",
      "\n",
      "   Age  BikeBuyer  \n",
      "0   50          1  \n",
      "1   51          1  \n",
      "2   51          1  \n",
      "3   49          1  \n",
      "4   48          1  \n"
     ]
    }
   ],
   "source": [
    "print(BB.head())"
   ]
  },
  {
   "cell_type": "code",
   "execution_count": 3,
   "id": "744ee2c7",
   "metadata": {},
   "outputs": [],
   "source": [
    "sub=BB[[BB.keys()[1]]]"
   ]
  },
  {
   "cell_type": "code",
   "execution_count": 6,
   "id": "3dab0b64",
   "metadata": {},
   "outputs": [
    {
     "name": "stdout",
     "output_type": "stream",
     "text": [
      "       Gender\n",
      "0           1\n",
      "1           1\n",
      "2           1\n",
      "3           2\n",
      "4           2\n",
      "...       ...\n",
      "18479       1\n",
      "18480       2\n",
      "18481       1\n",
      "18482       1\n",
      "18483       1\n",
      "\n",
      "[18484 rows x 1 columns]\n"
     ]
    }
   ],
   "source": [
    "print(sub)"
   ]
  },
  {
   "cell_type": "code",
   "execution_count": 9,
   "id": "d55596be",
   "metadata": {},
   "outputs": [
    {
     "name": "stdout",
     "output_type": "stream",
     "text": [
      "MaritalStatus           int64\n",
      "Gender                  int64\n",
      "YearlyIncome            int64\n",
      "TotalChildren           int64\n",
      "NumberChildrenAtHome    int64\n",
      "EnglishEducation        int64\n",
      "HouseOwnerFlag          int64\n",
      "NumberCarsOwned         int64\n",
      "CommuteDistance         int64\n",
      "Region                  int64\n",
      "Age                     int64\n",
      "BikeBuyer               int64\n",
      "dtype: object\n"
     ]
    }
   ],
   "source": [
    "print(BB.dtypes)"
   ]
  },
  {
   "cell_type": "code",
   "execution_count": null,
   "id": "5d3707e3",
   "metadata": {},
   "outputs": [],
   "source": []
  }
 ],
 "metadata": {
  "kernelspec": {
   "display_name": "Python 3",
   "language": "python",
   "name": "python3"
  },
  "language_info": {
   "codemirror_mode": {
    "name": "ipython",
    "version": 3
   },
   "file_extension": ".py",
   "mimetype": "text/x-python",
   "name": "python",
   "nbconvert_exporter": "python",
   "pygments_lexer": "ipython3",
   "version": "3.8.8"
  }
 },
 "nbformat": 4,
 "nbformat_minor": 5
}
