{
 "cells": [
  {
   "cell_type": "code",
   "execution_count": 1,
   "id": "7a079992",
   "metadata": {},
   "outputs": [
    {
     "name": "stdout",
     "output_type": "stream",
     "text": [
      "January\n",
      "February\n",
      "March\n",
      "April\n",
      "May\n",
      "June\n",
      "July\n",
      "August\n",
      "September\n",
      "October\n",
      "November\n",
      "DecemberAll months of the year.\n"
     ]
    }
   ],
   "source": [
    "f = open(\"months.txt\")\n",
    "print(f.read())"
   ]
  },
  {
   "cell_type": "code",
   "execution_count": 2,
   "id": "5e60cf2e",
   "metadata": {},
   "outputs": [],
   "source": [
    "f.close()"
   ]
  },
  {
   "cell_type": "code",
   "execution_count": 3,
   "id": "4debe809",
   "metadata": {},
   "outputs": [
    {
     "name": "stdout",
     "output_type": "stream",
     "text": [
      "January\n",
      "February\n",
      "March\n",
      "April\n",
      "May\n",
      "June\n",
      "July\n",
      "August\n",
      "September\n",
      "October\n",
      "November\n",
      "December\n"
     ]
    }
   ],
   "source": [
    "f = open(\"months.txt\")\n",
    "print(f.read())"
   ]
  },
  {
   "cell_type": "code",
   "execution_count": 4,
   "id": "544caa4e",
   "metadata": {},
   "outputs": [
    {
     "name": "stdout",
     "output_type": "stream",
     "text": [
      "I want two lines!\n",
      "The newline character gives me two lines.\n"
     ]
    }
   ],
   "source": [
    "print(\"I want two lines!\\nThe newline character gives me two lines.\")"
   ]
  },
  {
   "cell_type": "code",
   "execution_count": 5,
   "id": "3f175cd0",
   "metadata": {},
   "outputs": [],
   "source": [
    "f.close()"
   ]
  },
  {
   "cell_type": "code",
   "execution_count": 6,
   "id": "5066f2ce",
   "metadata": {},
   "outputs": [
    {
     "name": "stdout",
     "output_type": "stream",
     "text": [
      "Month January\n",
      "Month February\n",
      "Month March\n",
      "Month April\n",
      "Month May\n",
      "Month June\n",
      "Month July\n",
      "Month August\n",
      "Month September\n",
      "Month October\n",
      "Month November\n",
      "Month December\n"
     ]
    }
   ],
   "source": [
    "f = open(\"months.txt\")\n",
    "for month in f.readlines():\n",
    "   print(\"Month \" + month.strip())"
   ]
  },
  {
   "cell_type": "code",
   "execution_count": 7,
   "id": "25b00445",
   "metadata": {},
   "outputs": [],
   "source": [
    "f = open(\"months.txt\", \"w\")\n",
    "f.write(\"Awesome message!\")\n",
    "f.close()"
   ]
  },
  {
   "cell_type": "code",
   "execution_count": null,
   "id": "7abf68fb",
   "metadata": {},
   "outputs": [],
   "source": []
  }
 ],
 "metadata": {
  "kernelspec": {
   "display_name": "Python 3",
   "language": "python",
   "name": "python3"
  },
  "language_info": {
   "codemirror_mode": {
    "name": "ipython",
    "version": 3
   },
   "file_extension": ".py",
   "mimetype": "text/x-python",
   "name": "python",
   "nbconvert_exporter": "python",
   "pygments_lexer": "ipython3",
   "version": "3.8.8"
  }
 },
 "nbformat": 4,
 "nbformat_minor": 5
}
