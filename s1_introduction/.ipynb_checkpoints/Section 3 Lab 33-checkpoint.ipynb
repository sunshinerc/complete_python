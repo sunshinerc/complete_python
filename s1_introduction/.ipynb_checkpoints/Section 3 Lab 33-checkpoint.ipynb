{
 "cells": [
  {
   "cell_type": "code",
   "execution_count": 1,
   "id": "4daf5549",
   "metadata": {},
   "outputs": [
    {
     "name": "stdout",
     "output_type": "stream",
     "text": [
      "['steak', 'tacos', 'lobster', 'ice cream', 'bread pudding']\n"
     ]
    }
   ],
   "source": [
    "food = ['steak', 'tacos', 'lobster', 'ice cream', 'bread pudding']\n",
    "print (food)"
   ]
  },
  {
   "cell_type": "code",
   "execution_count": 3,
   "id": "3cab2f10",
   "metadata": {},
   "outputs": [
    {
     "ename": "IndexError",
     "evalue": "list index out of range",
     "output_type": "error",
     "traceback": [
      "\u001b[1;31m---------------------------------------------------------------------------\u001b[0m",
      "\u001b[1;31mIndexError\u001b[0m                                Traceback (most recent call last)",
      "\u001b[1;32m<ipython-input-3-b1d2c84ce074>\u001b[0m in \u001b[0;36m<module>\u001b[1;34m\u001b[0m\n\u001b[1;32m----> 1\u001b[1;33m \u001b[0mprint\u001b[0m\u001b[1;33m(\u001b[0m\u001b[0mfood\u001b[0m\u001b[1;33m[\u001b[0m\u001b[1;36m5\u001b[0m\u001b[1;33m]\u001b[0m\u001b[1;33m)\u001b[0m\u001b[1;33m\u001b[0m\u001b[1;33m\u001b[0m\u001b[0m\n\u001b[0m",
      "\u001b[1;31mIndexError\u001b[0m: list index out of range"
     ]
    }
   ],
   "source": [
    "print(food[5])"
   ]
  },
  {
   "cell_type": "code",
   "execution_count": 6,
   "id": "e2224e38",
   "metadata": {},
   "outputs": [
    {
     "name": "stdout",
     "output_type": "stream",
     "text": [
      "My favorite food is green beans\n"
     ]
    }
   ],
   "source": [
    "print('My favorite food is ' + food[1])"
   ]
  },
  {
   "cell_type": "code",
   "execution_count": 5,
   "id": "4d3d916b",
   "metadata": {},
   "outputs": [],
   "source": [
    "food[1] = 'green beans'"
   ]
  },
  {
   "cell_type": "code",
   "execution_count": 7,
   "id": "3f1f6654",
   "metadata": {},
   "outputs": [
    {
     "name": "stdout",
     "output_type": "stream",
     "text": [
      "('dog', 'cat', 'horse')\n"
     ]
    }
   ],
   "source": [
    "animals = ('dog','cat','horse')\n",
    "print(animals)"
   ]
  },
  {
   "cell_type": "code",
   "execution_count": 8,
   "id": "ce9cf0d1",
   "metadata": {},
   "outputs": [
    {
     "name": "stdout",
     "output_type": "stream",
     "text": [
      "horse\n"
     ]
    }
   ],
   "source": [
    "print(animals[2])"
   ]
  },
  {
   "cell_type": "code",
   "execution_count": 9,
   "id": "d40b2c64",
   "metadata": {},
   "outputs": [
    {
     "ename": "TypeError",
     "evalue": "'tuple' object does not support item assignment",
     "output_type": "error",
     "traceback": [
      "\u001b[1;31m---------------------------------------------------------------------------\u001b[0m",
      "\u001b[1;31mTypeError\u001b[0m                                 Traceback (most recent call last)",
      "\u001b[1;32m<ipython-input-9-ef90731b5f1f>\u001b[0m in \u001b[0;36m<module>\u001b[1;34m\u001b[0m\n\u001b[1;32m----> 1\u001b[1;33m \u001b[0manimals\u001b[0m\u001b[1;33m[\u001b[0m\u001b[1;36m2\u001b[0m\u001b[1;33m]\u001b[0m \u001b[1;33m=\u001b[0m \u001b[1;34m'fish'\u001b[0m\u001b[1;33m\u001b[0m\u001b[1;33m\u001b[0m\u001b[0m\n\u001b[0m",
      "\u001b[1;31mTypeError\u001b[0m: 'tuple' object does not support item assignment"
     ]
    }
   ],
   "source": [
    "animals[2] = 'fish'"
   ]
  },
  {
   "cell_type": "code",
   "execution_count": 10,
   "id": "4ba5b7d2",
   "metadata": {},
   "outputs": [
    {
     "name": "stdout",
     "output_type": "stream",
     "text": [
      "{'username': 'Mike', 'online': True, 'followers': 54000}\n"
     ]
    }
   ],
   "source": [
    "Mike = {'username': 'Mike', 'online': True, 'followers': 54000}\n",
    "print(Mike)"
   ]
  },
  {
   "cell_type": "code",
   "execution_count": 13,
   "id": "9091d933",
   "metadata": {},
   "outputs": [
    {
     "name": "stdout",
     "output_type": "stream",
     "text": [
      "54000\n"
     ]
    }
   ],
   "source": [
    "print(Mike['followers'])"
   ]
  },
  {
   "cell_type": "code",
   "execution_count": 14,
   "id": "dfc2ce4a",
   "metadata": {},
   "outputs": [
    {
     "name": "stdout",
     "output_type": "stream",
     "text": [
      "dict_keys(['username', 'online', 'followers'])\n"
     ]
    }
   ],
   "source": [
    "print(Mike.keys())"
   ]
  },
  {
   "cell_type": "code",
   "execution_count": 15,
   "id": "c4b2584d",
   "metadata": {},
   "outputs": [
    {
     "name": "stdout",
     "output_type": "stream",
     "text": [
      "dict_values(['Mike', True, 54000])\n"
     ]
    }
   ],
   "source": [
    "print(Mike.values())"
   ]
  },
  {
   "cell_type": "code",
   "execution_count": 16,
   "id": "6d58e995",
   "metadata": {},
   "outputs": [
    {
     "name": "stdout",
     "output_type": "stream",
     "text": [
      "dict_items([('username', 'Mike'), ('online', True), ('followers', 54000)])\n"
     ]
    }
   ],
   "source": [
    "print(Mike.items())"
   ]
  },
  {
   "cell_type": "code",
   "execution_count": 17,
   "id": "9683b962",
   "metadata": {},
   "outputs": [
    {
     "data": {
      "text/plain": [
       "dict_keys(['username', 'online', 'followers'])"
      ]
     },
     "execution_count": 17,
     "metadata": {},
     "output_type": "execute_result"
    }
   ],
   "source": [
    "Mike.keys()"
   ]
  },
  {
   "cell_type": "code",
   "execution_count": null,
   "id": "bc3634a6",
   "metadata": {},
   "outputs": [],
   "source": []
  }
 ],
 "metadata": {
  "kernelspec": {
   "display_name": "Python 3",
   "language": "python",
   "name": "python3"
  },
  "language_info": {
   "codemirror_mode": {
    "name": "ipython",
    "version": 3
   },
   "file_extension": ".py",
   "mimetype": "text/x-python",
   "name": "python",
   "nbconvert_exporter": "python",
   "pygments_lexer": "ipython3",
   "version": "3.8.8"
  }
 },
 "nbformat": 4,
 "nbformat_minor": 5
}
