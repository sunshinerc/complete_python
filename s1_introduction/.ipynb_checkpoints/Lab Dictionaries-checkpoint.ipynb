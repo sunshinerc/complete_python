{
 "cells": [
  {
   "cell_type": "code",
   "execution_count": 1,
   "id": "76568d0f",
   "metadata": {},
   "outputs": [
    {
     "name": "stdout",
     "output_type": "stream",
     "text": [
      "{'Mike': 938477566, 'Max': 938377264, 'Raff': 947662781}\n"
     ]
    }
   ],
   "source": [
    "phonebook = {}\n",
    "phonebook[\"Mike\"] = 938477566\n",
    "phonebook[\"Max\"] = 938377264\n",
    "phonebook[\"Raff\"] = 947662781\n",
    "print(phonebook)"
   ]
  },
  {
   "cell_type": "code",
   "execution_count": 2,
   "id": "44c2b003",
   "metadata": {},
   "outputs": [
    {
     "data": {
      "text/plain": [
       "938477566"
      ]
     },
     "execution_count": 2,
     "metadata": {},
     "output_type": "execute_result"
    }
   ],
   "source": [
    "phonebook['Mike']"
   ]
  },
  {
   "cell_type": "code",
   "execution_count": 3,
   "id": "e5c6e9a1",
   "metadata": {},
   "outputs": [
    {
     "name": "stdout",
     "output_type": "stream",
     "text": [
      "{'Mike': 938477566, 'Max': 938377264, 'Raff': 947662781, 'Cayce': '938377267'}\n"
     ]
    }
   ],
   "source": [
    "phonebook['Cayce'] = '938377267'\n",
    "print(phonebook)"
   ]
  },
  {
   "cell_type": "code",
   "execution_count": 4,
   "id": "0b1e7bad",
   "metadata": {},
   "outputs": [
    {
     "name": "stdout",
     "output_type": "stream",
     "text": [
      "{'Mike': 938477566, 'Max': 938377264, 'Raff': 947662781, 'Cayce': '938377267'}\n"
     ]
    }
   ],
   "source": [
    "phonebook['Cayce'] = '938377267'\n",
    "\n",
    "print(phonebook)"
   ]
  },
  {
   "cell_type": "code",
   "execution_count": 5,
   "id": "8503a219",
   "metadata": {},
   "outputs": [
    {
     "name": "stdout",
     "output_type": "stream",
     "text": [
      "{'Max': 938377264, 'Raff': 947662781, 'Cayce': '938377267'}\n"
     ]
    }
   ],
   "source": [
    "del phonebook['Mike']\n",
    "print(phonebook)"
   ]
  },
  {
   "cell_type": "code",
   "execution_count": 6,
   "id": "54622e17",
   "metadata": {},
   "outputs": [
    {
     "name": "stdout",
     "output_type": "stream",
     "text": [
      "{'Mike': {}}\n"
     ]
    }
   ],
   "source": [
    "phonebook = {}\n",
    "phonebook[\"Mike\"] = {}\n",
    "print(phonebook)"
   ]
  },
  {
   "cell_type": "code",
   "execution_count": 7,
   "id": "66fe10cb",
   "metadata": {},
   "outputs": [
    {
     "name": "stdout",
     "output_type": "stream",
     "text": [
      "{}\n"
     ]
    }
   ],
   "source": [
    "print(phonebook['Mike'])"
   ]
  },
  {
   "cell_type": "code",
   "execution_count": 9,
   "id": "c503c4e4",
   "metadata": {},
   "outputs": [
    {
     "name": "stdout",
     "output_type": "stream",
     "text": [
      "{'Casey': 1}\n"
     ]
    }
   ],
   "source": [
    "phonebook['Mike']['Casey'] = 1\n",
    "print(phonebook['Mike'])"
   ]
  },
  {
   "cell_type": "code",
   "execution_count": 10,
   "id": "044dcb40",
   "metadata": {},
   "outputs": [
    {
     "name": "stdout",
     "output_type": "stream",
     "text": [
      "{'Mike': {'Casey': 1}}\n"
     ]
    }
   ],
   "source": [
    "print(phonebook)"
   ]
  },
  {
   "cell_type": "code",
   "execution_count": null,
   "id": "96d5705e",
   "metadata": {},
   "outputs": [],
   "source": []
  }
 ],
 "metadata": {
  "kernelspec": {
   "display_name": "Python 3",
   "language": "python",
   "name": "python3"
  },
  "language_info": {
   "codemirror_mode": {
    "name": "ipython",
    "version": 3
   },
   "file_extension": ".py",
   "mimetype": "text/x-python",
   "name": "python",
   "nbconvert_exporter": "python",
   "pygments_lexer": "ipython3",
   "version": "3.8.8"
  }
 },
 "nbformat": 4,
 "nbformat_minor": 5
}
