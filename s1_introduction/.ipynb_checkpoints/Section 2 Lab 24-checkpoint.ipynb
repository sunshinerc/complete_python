{
 "cells": [
  {
   "cell_type": "markdown",
   "id": "b89a44c5",
   "metadata": {},
   "source": [
    "Converting int to float"
   ]
  },
  {
   "cell_type": "code",
   "execution_count": 1,
   "id": "a7d972eb",
   "metadata": {},
   "outputs": [
    {
     "data": {
      "text/plain": [
       "10.0"
      ]
     },
     "execution_count": 1,
     "metadata": {},
     "output_type": "execute_result"
    }
   ],
   "source": [
    "i = 10\n",
    "float(i)"
   ]
  },
  {
   "cell_type": "markdown",
   "id": "2c6b8f69",
   "metadata": {},
   "source": [
    "Converting float to int"
   ]
  },
  {
   "cell_type": "code",
   "execution_count": 2,
   "id": "ec8ff7ae",
   "metadata": {},
   "outputs": [
    {
     "data": {
      "text/plain": [
       "14"
      ]
     },
     "execution_count": 2,
     "metadata": {},
     "output_type": "execute_result"
    }
   ],
   "source": [
    "f = 14.66\n",
    "int(f)"
   ]
  },
  {
   "cell_type": "code",
   "execution_count": 3,
   "id": "6dabbbbd",
   "metadata": {},
   "outputs": [
    {
     "data": {
      "text/plain": [
       "'14.66'"
      ]
     },
     "execution_count": 3,
     "metadata": {},
     "output_type": "execute_result"
    }
   ],
   "source": [
    "str(f)"
   ]
  },
  {
   "cell_type": "code",
   "execution_count": 4,
   "id": "05c2ba19",
   "metadata": {},
   "outputs": [
    {
     "name": "stdout",
     "output_type": "stream",
     "text": [
      "14.66\n"
     ]
    }
   ],
   "source": [
    "print(f)"
   ]
  },
  {
   "cell_type": "code",
   "execution_count": null,
   "id": "0b33c65d",
   "metadata": {},
   "outputs": [],
   "source": []
  }
 ],
 "metadata": {
  "kernelspec": {
   "display_name": "Python 3",
   "language": "python",
   "name": "python3"
  },
  "language_info": {
   "codemirror_mode": {
    "name": "ipython",
    "version": 3
   },
   "file_extension": ".py",
   "mimetype": "text/x-python",
   "name": "python",
   "nbconvert_exporter": "python",
   "pygments_lexer": "ipython3",
   "version": "3.8.8"
  }
 },
 "nbformat": 4,
 "nbformat_minor": 5
}
