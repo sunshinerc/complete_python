{
 "cells": [
  {
   "cell_type": "code",
   "execution_count": 1,
   "id": "e11dfcb1",
   "metadata": {},
   "outputs": [
    {
     "name": "stdout",
     "output_type": "stream",
     "text": [
      "0\n",
      "1\n",
      "2\n",
      "3\n",
      "4\n"
     ]
    }
   ],
   "source": [
    "for i in range(0,5):\n",
    "   print(i)"
   ]
  },
  {
   "cell_type": "code",
   "execution_count": 2,
   "id": "26976f8e",
   "metadata": {},
   "outputs": [
    {
     "name": "stdout",
     "output_type": "stream",
     "text": [
      "0\n",
      "1\n",
      "2\n",
      "3\n",
      "4\n",
      "5\n",
      "6\n",
      "7\n",
      "8\n"
     ]
    }
   ],
   "source": [
    "# range() with one number is how many times the loop is repeated\n",
    "for i in range(9):\n",
    "   print(i)"
   ]
  },
  {
   "cell_type": "code",
   "execution_count": 3,
   "id": "1c09d77c",
   "metadata": {},
   "outputs": [
    {
     "name": "stdout",
     "output_type": "stream",
     "text": [
      "20\n",
      "21\n",
      "22\n",
      "23\n",
      "24\n"
     ]
    }
   ],
   "source": [
    "for i in range(20,25):\n",
    "   print(i)"
   ]
  },
  {
   "cell_type": "code",
   "execution_count": 4,
   "id": "0f6bee97",
   "metadata": {},
   "outputs": [
    {
     "name": "stdout",
     "output_type": "stream",
     "text": [
      "0\n",
      "3\n",
      "6\n",
      "9\n",
      "12\n"
     ]
    }
   ],
   "source": [
    "for i in range(0,15,3):\n",
    "   print(i)"
   ]
  },
  {
   "cell_type": "code",
   "execution_count": 6,
   "id": "a497956d",
   "metadata": {},
   "outputs": [
    {
     "name": "stdout",
     "output_type": "stream",
     "text": [
      "['steak', 'ice cream', 'chocolate', 'apple', 'egg', 'ribs']\n",
      "['steak', 'ice cream', 'chocolate', 'apple', 'egg', 'ribs']\n",
      "['steak', 'ice cream', 'chocolate', 'apple', 'egg', 'ribs']\n",
      "['steak', 'ice cream', 'chocolate', 'apple', 'egg', 'ribs']\n",
      "['steak', 'ice cream', 'chocolate', 'apple', 'egg', 'ribs']\n",
      "['steak', 'ice cream', 'chocolate', 'apple', 'egg', 'ribs']\n"
     ]
    }
   ],
   "source": [
    "food = ['steak', 'ice cream', 'chocolate', 'apple', 'egg', 'ribs']\n",
    "for foodItems in food:\n",
    "    print(food)"
   ]
  },
  {
   "cell_type": "code",
   "execution_count": 7,
   "id": "a3baf3c7",
   "metadata": {},
   "outputs": [
    {
     "name": "stdout",
     "output_type": "stream",
     "text": [
      "Enter a number: 5\n",
      "1\n",
      "2\n",
      "3\n",
      "4\n",
      "Enter a number: 7\n",
      "1\n",
      "2\n",
      "3\n",
      "4\n",
      "5\n",
      "6\n",
      "Enter a number: 0\n"
     ]
    }
   ],
   "source": [
    "x = int(input('Enter a number: '))\n",
    "\n",
    "while x != 0:\n",
    "    for y in range (1, x):\n",
    "        print (y)\n",
    "        y+=1\n",
    "    x = int(input('Enter a number: '))"
   ]
  },
  {
   "cell_type": "code",
   "execution_count": 9,
   "id": "3b0a3693",
   "metadata": {},
   "outputs": [
    {
     "name": "stdout",
     "output_type": "stream",
     "text": [
      "i = 0\n",
      "i = 1\n",
      "i = 2\n",
      "i = 3\n",
      "i = 4\n",
      "i = 5\n",
      "i = 6\n"
     ]
    }
   ],
   "source": [
    "#break will break out of the loop prematurely\n",
    "for i in range(10):\n",
    "    print('i =',i)\n",
    "    if i == 6:\n",
    "        break"
   ]
  },
  {
   "cell_type": "code",
   "execution_count": 12,
   "id": "582512ba",
   "metadata": {},
   "outputs": [
    {
     "name": "stdout",
     "output_type": "stream",
     "text": [
      "Number is 1\n",
      "Number is 2\n",
      "Number is 3\n",
      "Number is 4\n",
      "Number is 6\n",
      "Number is 7\n",
      "Number is 8\n",
      "Number is 9\n",
      "Number is 10\n",
      "Out of loop\n"
     ]
    }
   ],
   "source": [
    "for number in range(10):\n",
    "    number += 1\n",
    "    \n",
    "    # don't print if value is 5\n",
    "    if number == 5:\n",
    "        continue\n",
    "    \n",
    "    #default behavior\n",
    "    print('Number is ' + str(number))\n",
    "\n",
    "print('Out of loop')"
   ]
  },
  {
   "cell_type": "code",
   "execution_count": null,
   "id": "39e02815",
   "metadata": {},
   "outputs": [],
   "source": []
  }
 ],
 "metadata": {
  "kernelspec": {
   "display_name": "Python 3",
   "language": "python",
   "name": "python3"
  },
  "language_info": {
   "codemirror_mode": {
    "name": "ipython",
    "version": 3
   },
   "file_extension": ".py",
   "mimetype": "text/x-python",
   "name": "python",
   "nbconvert_exporter": "python",
   "pygments_lexer": "ipython3",
   "version": "3.8.8"
  }
 },
 "nbformat": 4,
 "nbformat_minor": 5
}
