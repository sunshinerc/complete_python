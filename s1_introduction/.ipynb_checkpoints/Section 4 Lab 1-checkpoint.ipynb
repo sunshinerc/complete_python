{
 "cells": [
  {
   "cell_type": "code",
   "execution_count": 5,
   "id": "6c2cb441",
   "metadata": {},
   "outputs": [
    {
     "name": "stdout",
     "output_type": "stream",
     "text": [
      "Not so Good\n"
     ]
    }
   ],
   "source": [
    "a = 12 \n",
    "\n",
    "if a == 10:\n",
    "    print(\"Good\")\n",
    "else:\n",
    "    print(\"Not so Good\")"
   ]
  },
  {
   "cell_type": "code",
   "execution_count": 6,
   "id": "7e6dac3e",
   "metadata": {},
   "outputs": [
    {
     "name": "stdout",
     "output_type": "stream",
     "text": [
      "Rachel\n",
      "Eric\n",
      "Marc\n"
     ]
    }
   ],
   "source": [
    "people = ['Rachel', 'Eric', 'Marc']\n",
    "for peeps in people:\n",
    "    print(peeps)"
   ]
  },
  {
   "cell_type": "code",
   "execution_count": 7,
   "id": "d3b5cb91",
   "metadata": {},
   "outputs": [
    {
     "name": "stdout",
     "output_type": "stream",
     "text": [
      "Mike\n",
      "Ty\n",
      "Jon\n"
     ]
    }
   ],
   "source": [
    "age = {'Mike': 40, 'Ty': 30, 'Jon': 50}\n",
    "for i in age:\n",
    "    print(i)"
   ]
  },
  {
   "cell_type": "code",
   "execution_count": 14,
   "id": "93ed5fc6",
   "metadata": {},
   "outputs": [
    {
     "name": "stdout",
     "output_type": "stream",
     "text": [
      "Name = Mike, age = 40, fun = 50\n",
      "Name = Ty, age = 30, fun = 40\n",
      "Name = Jon, age = 50, fun = 60\n"
     ]
    }
   ],
   "source": [
    "for i in age:\n",
    "    print(\"Name = %s, age = %d, fun = %d\" %(i, age[i], age[i]++10))"
   ]
  },
  {
   "cell_type": "code",
   "execution_count": null,
   "id": "55daa9d2",
   "metadata": {},
   "outputs": [],
   "source": []
  }
 ],
 "metadata": {
  "kernelspec": {
   "display_name": "Python 3",
   "language": "python",
   "name": "python3"
  },
  "language_info": {
   "codemirror_mode": {
    "name": "ipython",
    "version": 3
   },
   "file_extension": ".py",
   "mimetype": "text/x-python",
   "name": "python",
   "nbconvert_exporter": "python",
   "pygments_lexer": "ipython3",
   "version": "3.8.8"
  }
 },
 "nbformat": 4,
 "nbformat_minor": 5
}
