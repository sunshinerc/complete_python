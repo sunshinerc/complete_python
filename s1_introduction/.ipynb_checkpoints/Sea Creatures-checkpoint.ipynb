{
 "cells": [
  {
   "cell_type": "code",
   "execution_count": 1,
   "id": "7d8aeb4d",
   "metadata": {},
   "outputs": [
    {
     "name": "stdout",
     "output_type": "stream",
     "text": [
      "['shark', 'cuttlefish', 'squid', 'mantis shrimp', 'anemone']\n"
     ]
    }
   ],
   "source": [
    "sea_creatures = ['shark','cuttlefish','squid','mantis shrimp','anemone']\n",
    "print(sea_creatures)"
   ]
  },
  {
   "cell_type": "code",
   "execution_count": 2,
   "id": "0eb27408",
   "metadata": {},
   "outputs": [
    {
     "name": "stdout",
     "output_type": "stream",
     "text": [
      "shark\n"
     ]
    }
   ],
   "source": [
    "print(sea_creatures[0])"
   ]
  },
  {
   "cell_type": "code",
   "execution_count": 3,
   "id": "ae5c1b2f",
   "metadata": {},
   "outputs": [
    {
     "name": "stdout",
     "output_type": "stream",
     "text": [
      "anemone\n"
     ]
    }
   ],
   "source": [
    "print(sea_creatures[-1])"
   ]
  },
  {
   "cell_type": "code",
   "execution_count": 5,
   "id": "16ca4275",
   "metadata": {},
   "outputs": [
    {
     "name": "stdout",
     "output_type": "stream",
     "text": [
      "['cuttlefish', 'squid', 'mantis shrimp']\n"
     ]
    }
   ],
   "source": [
    "# this is a slice\n",
    "print(sea_creatures[1:4])"
   ]
  },
  {
   "cell_type": "code",
   "execution_count": 6,
   "id": "6bec26c3",
   "metadata": {},
   "outputs": [
    {
     "name": "stdout",
     "output_type": "stream",
     "text": [
      "['shark', 'cuttlefish', 'squid']\n"
     ]
    }
   ],
   "source": [
    "print(sea_creatures[:3])"
   ]
  },
  {
   "cell_type": "code",
   "execution_count": 7,
   "id": "7f5fac31",
   "metadata": {},
   "outputs": [
    {
     "name": "stdout",
     "output_type": "stream",
     "text": [
      "['cuttlefish', 'mantis shrimp']\n"
     ]
    }
   ],
   "source": [
    "# a third paramater can be added after the colon, for the stride\n",
    "print(sea_creatures[1:4:2])"
   ]
  },
  {
   "cell_type": "code",
   "execution_count": 8,
   "id": "9c5219ac",
   "metadata": {},
   "outputs": [
    {
     "data": {
      "text/plain": [
       "['shark', 'mantis shrimp']"
      ]
     },
     "execution_count": 8,
     "metadata": {},
     "output_type": "execute_result"
    }
   ],
   "source": [
    "# valid to only have a stride parameter\n",
    "sea_creatures[::3]"
   ]
  },
  {
   "cell_type": "code",
   "execution_count": 9,
   "id": "e9ae4372",
   "metadata": {},
   "outputs": [],
   "source": [
    "#add ocean's list\n",
    "oceans = ['Pacific', 'Atlantic', 'Indian', 'Southern', 'Artic']"
   ]
  },
  {
   "cell_type": "code",
   "execution_count": 10,
   "id": "8fb9575c",
   "metadata": {},
   "outputs": [
    {
     "name": "stdout",
     "output_type": "stream",
     "text": [
      "['shark', 'cuttlefish', 'squid', 'mantis shrimp', 'anemone', 'Pacific', 'Atlantic', 'Indian', 'Southern', 'Artic']\n"
     ]
    }
   ],
   "source": [
    "print(sea_creatures + oceans)"
   ]
  },
  {
   "cell_type": "code",
   "execution_count": 11,
   "id": "770c5c13",
   "metadata": {},
   "outputs": [
    {
     "name": "stdout",
     "output_type": "stream",
     "text": [
      "['Pacific', 'Atlantic', 'Indian', 'Southern', 'Artic', 'Pacific', 'Atlantic', 'Indian', 'Southern', 'Artic', 'Pacific', 'Atlantic', 'Indian', 'Southern', 'Artic']\n"
     ]
    }
   ],
   "source": [
    "print(oceans * 3)"
   ]
  },
  {
   "cell_type": "code",
   "execution_count": 12,
   "id": "7c82e3d1",
   "metadata": {},
   "outputs": [
    {
     "name": "stdout",
     "output_type": "stream",
     "text": [
      "['shark', 'cuttlefish', 'squid', 'mantis shrimp', 'anemone', 'cat']\n",
      "['shark', 'cuttlefish', 'squid', 'mantis shrimp', 'anemone', 'cat', 'cat']\n",
      "['shark', 'cuttlefish', 'squid', 'mantis shrimp', 'anemone', 'cat', 'cat', 'cat']\n"
     ]
    }
   ],
   "source": [
    "for x in range(1,4):\n",
    "    sea_creatures += ['cat']\n",
    "    print(sea_creatures)"
   ]
  },
  {
   "cell_type": "code",
   "execution_count": 29,
   "id": "f023dfd1",
   "metadata": {},
   "outputs": [
    {
     "name": "stdout",
     "output_type": "stream",
     "text": [
      "['shark', 'shark', 'shark', 'shark', 'shark', 'shark', 'shark', 'shark', 'shark', 'shark', 'shark', 'shark', 'shark', 'shark', 'shark', 'shark', 'shark', 'shark', 'shark', 'shark', 'shark', 'shark', 'shark', 'shark', 'shark', 'shark', 'shark', 'shark', 'shark', 'shark', 'shark', 'shark', 'shark', 'shark', 'shark', 'shark', 'shark', 'shark', 'shark', 'shark', 'shark', 'shark', 'shark', 'shark', 'shark', 'shark', 'shark', 'shark', 'shark', 'shark', 'shark', 'shark', 'shark', 'shark', 'shark', 'shark', 'shark', 'shark', 'shark', 'shark', 'shark', 'shark', 'shark', 'shark', 'shark', 'shark', 'shark', 'shark', 'shark', 'shark', 'shark', 'shark', 'shark', 'shark', 'shark', 'shark', 'shark', 'shark', 'shark', 'shark', 'shark']\n"
     ]
    }
   ],
   "source": [
    "myrange = ['shark']\n",
    "for x in range(1,5):\n",
    "    myrange *= 3\n",
    "print(myrange)"
   ]
  },
  {
   "cell_type": "code",
   "execution_count": 30,
   "id": "cd019f91",
   "metadata": {},
   "outputs": [],
   "source": [
    "del sea_creatures[1]"
   ]
  },
  {
   "cell_type": "code",
   "execution_count": 31,
   "id": "c7ecc9e6",
   "metadata": {},
   "outputs": [
    {
     "name": "stdout",
     "output_type": "stream",
     "text": [
      "['shark', 'squid', 'mantis shrimp', 'anemone', 'cat', 'cat', 'cat']\n"
     ]
    }
   ],
   "source": [
    "print(sea_creatures)"
   ]
  },
  {
   "cell_type": "code",
   "execution_count": 32,
   "id": "b18d24cd",
   "metadata": {},
   "outputs": [
    {
     "name": "stdout",
     "output_type": "stream",
     "text": [
      "['shark', 'cat', 'cat', 'cat']\n"
     ]
    }
   ],
   "source": [
    "del sea_creatures[1:4]\n",
    "print(sea_creatures)"
   ]
  },
  {
   "cell_type": "code",
   "execution_count": null,
   "id": "1dbca7ee",
   "metadata": {},
   "outputs": [],
   "source": []
  }
 ],
 "metadata": {
  "kernelspec": {
   "display_name": "Python 3",
   "language": "python",
   "name": "python3"
  },
  "language_info": {
   "codemirror_mode": {
    "name": "ipython",
    "version": 3
   },
   "file_extension": ".py",
   "mimetype": "text/x-python",
   "name": "python",
   "nbconvert_exporter": "python",
   "pygments_lexer": "ipython3",
   "version": "3.8.8"
  }
 },
 "nbformat": 4,
 "nbformat_minor": 5
}
