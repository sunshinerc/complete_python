{
 "cells": [
  {
   "cell_type": "code",
   "execution_count": 9,
   "id": "b3088687",
   "metadata": {},
   "outputs": [],
   "source": [
    "userName = \"Rachel\""
   ]
  },
  {
   "cell_type": "code",
   "execution_count": 10,
   "id": "d3227a39",
   "metadata": {},
   "outputs": [
    {
     "name": "stdout",
     "output_type": "stream",
     "text": [
      "Rachel\n"
     ]
    }
   ],
   "source": [
    "print(userName)"
   ]
  },
  {
   "cell_type": "code",
   "execution_count": 12,
   "id": "87bd15e1",
   "metadata": {},
   "outputs": [],
   "source": [
    "count, result, total = 0,0,0\n",
    "\n",
    "count = 0\n",
    "result = 0\n",
    "total = 0"
   ]
  },
  {
   "cell_type": "code",
   "execution_count": 13,
   "id": "f3e62b84",
   "metadata": {},
   "outputs": [
    {
     "data": {
      "text/plain": [
       "'C:\\\\Users\\\\rplatt'"
      ]
     },
     "execution_count": 13,
     "metadata": {},
     "output_type": "execute_result"
    }
   ],
   "source": [
    "import os\n",
    "os.path.expanduser('~')"
   ]
  },
  {
   "cell_type": "code",
   "execution_count": null,
   "id": "4908bbe5",
   "metadata": {},
   "outputs": [],
   "source": []
  }
 ],
 "metadata": {
  "kernelspec": {
   "display_name": "Python 3",
   "language": "python",
   "name": "python3"
  },
  "language_info": {
   "codemirror_mode": {
    "name": "ipython",
    "version": 3
   },
   "file_extension": ".py",
   "mimetype": "text/x-python",
   "name": "python",
   "nbconvert_exporter": "python",
   "pygments_lexer": "ipython3",
   "version": "3.8.8"
  }
 },
 "nbformat": 4,
 "nbformat_minor": 5
}
